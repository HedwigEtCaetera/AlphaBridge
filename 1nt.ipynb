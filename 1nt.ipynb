{
 "cells": [
  {
   "cell_type": "markdown",
   "metadata": {},
   "source": [
    "## Learning to chose the suit to lead on (pass) - 1nt - all pass\n",
    "to add: treat the same hands with differents leads; check the dependence of 1nt force (!need to calculate points of declarer)"
   ]
  },
  {
   "cell_type": "markdown",
   "metadata": {},
   "source": [
    "Script to get the leading hand and the lead from file \"temp_final.DAT\" which containts hands + leads"
   ]
  },
  {
   "cell_type": "code",
   "execution_count": 31,
   "metadata": {
    "collapsed": true
   },
   "outputs": [],
   "source": [
    "#you gotta take out the newline in the beginning of the file\n",
    "import numpy as np\n",
    "\n",
    "PLAYERS = {0:'E', 1:'S', 2:'W', 3:'N'}\n",
    "SUITMAP = {'S':0, 'H':1, 'D':2, 'C':3}\n",
    "##added by me\n",
    "SUITS = ['S', 'H', 'D', 'C', 'N'] ## N for no out of range exception\n",
    "##\n",
    "CARDMAP = {'2':2, '3':3, '4':4, '5':5, '6':6, '7':7, '8':8, '9':9, 'T':10, 'J':11, 'Q':12, 'K':13, 'A':14}\n",
    "\n",
    "##starts to read from the first S and returns the strings for hands and entame\n",
    "def pretreat(horribleInput):\n",
    "    horribleInput = horribleInput.upper()\n",
    "    \n",
    "    begin = horribleInput.find(SUITS[0]) ##beginning of hands, namely the first spades that he encounters\n",
    "    if(begin == -1):\n",
    "        print(\"couldnt find 'S' in the horrible input\");\n",
    "    args = horribleInput[begin:].split('|')\n",
    "    if(len(args) != 2):\n",
    "        print(\"there was more than one '|' after the first S(spades)\")\n",
    "    if(len(args[0]) != 71):\n",
    "        print(\"the collection of hands(17 chars in each and 3 commas) has a weird length:\" + len(args[0]))\n",
    "    if(len(args[1]) != 2):\n",
    "        print(\"entame with plus than 2 chars\")\n",
    "    return args[0], args[1]\n",
    "\n",
    "#magic! returns vector from text format hand\n",
    "def vectorizing(handText):\n",
    "    hand = np.zeros(53)\n",
    "    end = 0   #should see if its S\n",
    "    for suit in range(4):\n",
    "        begin = end + 1\n",
    "        end = handText.find(SUITS[suit+1])\n",
    "        for i in range(begin,end):\n",
    "            hand[suit*13 + CARDMAP[handText[i]]-2] = 1\n",
    "    return hand\n",
    "        \n",
    "# colocar um nome melhor\n",
    "#return who entamed, in terms of S, W, E, N, with the players hands in the orther they`ll be played\n",
    "def treatingDudu(horribleInput):\n",
    "    #handsText com in the format [13],...\n",
    "    #uniformilizing the inputs\n",
    "    handsText, entame = pretreat(horribleInput)\n",
    "    #print(handsText)\n",
    "    #print(entame)\n",
    "    handsText = handsText.split(',')\n",
    "    suitEntame = entame[0]\n",
    "    rankEntame = entame[1]\n",
    "    suitCode = SUITMAP[suitEntame]\n",
    "    nextSuit = SUITS[suitCode + 1]\n",
    "    #hands = np.zeros((4, 53))\n",
    "    #print(suitEntame, nextSuit)\n",
    "    hands = []\n",
    "    for h in range(len(handsText)):\n",
    "        \n",
    "        begin = handsText[h].index(suitEntame)\n",
    "        end = handsText[h].find(nextSuit)\n",
    "        #print(end)\n",
    "        if(end == -1):\n",
    "            end = len(handsText[h])\n",
    "        if(handsText[h][begin:end].find(rankEntame) != -1):\n",
    "            found = h\n",
    "            #print(h)\n",
    "            break\n",
    "    for h in range(len(handsText)):\n",
    "        hands.append(vectorizing(handsText[(found+h)%len(handsText)]))\n",
    "        \n",
    "    \n",
    "    #print(found)\n",
    "    #print(PLAYERS[found])\n",
    "    \n",
    "    return entame, hands[0] ##,PLAYERS[found]\n",
    "\n",
    "#appele treating pour une 'file'\n",
    "def archiveTreat(filename):\n",
    "    terribleArchive = open(filename, 'r')\n",
    "    horribleInputs = terribleArchive.read().split('\\n')\n",
    "    return [treatingDudu(inp) for inp in horribleInputs]\n",
    "    \n",
    "#horribleInput = \"SAK62H32DAKT6CA84,SJT7HAJ4DQJ982C63,S83HT876D75CKQ752,SQ954HKQ95D43CJT9|DQ\"\n",
    "#print(treatingDudu(horribleInput))\n",
    "filename = \"temp_final.DAT\"\n",
    "vectors = archiveTreat(filename)"
   ]
  },
  {
   "cell_type": "markdown",
   "metadata": {},
   "source": [
    "Creating two arrays with hands and corresponding leads"
   ]
  },
  {
   "cell_type": "code",
   "execution_count": 32,
   "metadata": {
    "collapsed": false
   },
   "outputs": [],
   "source": [
    "leads = []\n",
    "hands = []\n",
    "length = len(vectors)\n",
    "for i in range(length):\n",
    "    leads.append(vectors[i][0])\n",
    "    hands.append(vectors[i][1][:-1])\n",
    "#S = 0, H = 1, D = 2, C = 3\n",
    "suits_lead = []\n",
    "for i in range(length):\n",
    "    if leads[i][0] == 'S':\n",
    "        suits_lead.append(0)\n",
    "    if leads[i][0] == 'H':\n",
    "        suits_lead.append(1)\n",
    "    if leads[i][0] == 'D':\n",
    "        suits_lead.append(2)\n",
    "    if leads[i][0] == 'C':\n",
    "        suits_lead.append(3)"
   ]
  },
  {
   "cell_type": "markdown",
   "metadata": {},
   "source": [
    "Making a classifier"
   ]
  },
  {
   "cell_type": "code",
   "execution_count": 35,
   "metadata": {
    "collapsed": false
   },
   "outputs": [],
   "source": [
    "#import pandas as pd\n",
    "from sklearn.multiclass import OneVsRestClassifier\n",
    "from sklearn.svm import SVC\n",
    "from sklearn.model_selection import train_test_split\n",
    "#columns = ['2s', '3s', '4s', '5s','6s', '7s', '8s', '9s','10s', 'Js', 'Qs', 'Ks', 'As', \n",
    "#           '2h', '3h', '4h', '5h','6h', '7h', '8h', '9h','10h', 'Jh', 'Qh', 'Kh', 'Ah',\n",
    "#           '2d', '3d', '4d', '5d','6d', '7d', '8d', '9d','10d', 'Jd', 'Qd', 'Kd', 'Ad',\n",
    "#           '2c', '3c', '4c', '5c','6c', '7c', '8c', '9c','10c', 'Jc', 'Qc', 'Kc', 'Ac']\n",
    "#df = pd.DataFrame(hands, columns=columns)"
   ]
  },
  {
   "cell_type": "markdown",
   "metadata": {},
   "source": [
    "Learning and making a train_test_split"
   ]
  },
  {
   "cell_type": "code",
   "execution_count": 36,
   "metadata": {
    "collapsed": false
   },
   "outputs": [
    {
     "data": {
      "text/plain": [
       "0.67272727272727273"
      ]
     },
     "execution_count": 36,
     "metadata": {},
     "output_type": "execute_result"
    }
   ],
   "source": [
    "X_train, X_test, y_train, y_test = train_test_split(hands, suits_lead, test_size=0.1, random_state=0)\n",
    "clf = OneVsRestClassifier(SVC(random_state=0)).fit(X_train, y_train)\n",
    "clf.score(X_test, y_test)"
   ]
  },
  {
   "cell_type": "markdown",
   "metadata": {},
   "source": [
    "Increasing number of boards by swipping majors and minors"
   ]
  },
  {
   "cell_type": "code",
   "execution_count": 37,
   "metadata": {
    "collapsed": true
   },
   "outputs": [],
   "source": [
    "#exchange majors; exchange minors; exchange both\n",
    "for i in range(length):\n",
    "    \n",
    "    #exchange majors\n",
    "    new_hand = np.zeros(52)\n",
    "    new_hand[:13], new_hand[13:26], new_hand[26:52] = hands[i][13:26], hands[i][0:13], hands[i][26:52]\n",
    "    hands.append(new_hand)\n",
    "    if suits_lead[i] == 0:\n",
    "        suits_lead.append(1)\n",
    "    if suits_lead[i] == 1:\n",
    "        suits_lead.append(0)\n",
    "    if suits_lead[i] == 2:\n",
    "        suits_lead.append(2)\n",
    "    if suits_lead[i] == 3:\n",
    "        suits_lead.append(3)\n",
    "        \n",
    "    #exchange minors\n",
    "    new_hand = np.zeros(52)\n",
    "    new_hand[:26], new_hand[26:39], new_hand[39:52] = hands[i][0:26], hands[i][39:52], hands[i][26:39]\n",
    "    hands.append(new_hand)\n",
    "    if suits_lead[i] == 0:\n",
    "        suits_lead.append(0)\n",
    "    if suits_lead[i] == 1:\n",
    "        suits_lead.append(1)\n",
    "    if suits_lead[i] == 2:\n",
    "        suits_lead.append(3)\n",
    "    if suits_lead[i] == 3:\n",
    "        suits_lead.append(2)\n",
    "        \n",
    "    #exchange both\n",
    "    new_hand = np.zeros(52)\n",
    "    new_hand[:13], new_hand[13:26], new_hand[26:39], new_hand[39:52] = hands[i][13:26], hands[i][0:13], hands[i][39:52], hands[i][26:39]\n",
    "    hands.append(new_hand)\n",
    "    if suits_lead[i] == 0:\n",
    "        suits_lead.append(1)\n",
    "    if suits_lead[i] == 1:\n",
    "        suits_lead.append(0)\n",
    "    if suits_lead[i] == 2:\n",
    "        suits_lead.append(3)\n",
    "    if suits_lead[i] == 3:\n",
    "        suits_lead.append(2)"
   ]
  },
  {
   "cell_type": "markdown",
   "metadata": {},
   "source": [
    "Learning on bigger dataset and making a train_test_split"
   ]
  },
  {
   "cell_type": "code",
   "execution_count": 41,
   "metadata": {
    "collapsed": false
   },
   "outputs": [
    {
     "data": {
      "text/plain": [
       "0.67727272727272725"
      ]
     },
     "execution_count": 41,
     "metadata": {},
     "output_type": "execute_result"
    }
   ],
   "source": [
    "X_train, X_test, y_train, y_test = train_test_split(hands, suits_lead, test_size=0.1, random_state=0)\n",
    "clf = OneVsRestClassifier(SVC(random_state=0)).fit(X_train, y_train)\n",
    "clf.score(X_test, y_test)"
   ]
  }
 ],
 "metadata": {
  "kernelspec": {
   "display_name": "Python 2",
   "language": "python",
   "name": "python2"
  },
  "language_info": {
   "codemirror_mode": {
    "name": "ipython",
    "version": 2
   },
   "file_extension": ".py",
   "mimetype": "text/x-python",
   "name": "python",
   "nbconvert_exporter": "python",
   "pygments_lexer": "ipython2",
   "version": "2.7.12"
  }
 },
 "nbformat": 4,
 "nbformat_minor": 0
}
